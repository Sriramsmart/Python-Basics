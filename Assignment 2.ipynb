{
 "cells": [
  {
   "cell_type": "markdown",
   "metadata": {},
   "source": [
    "1. Print below patter using nested loop\n"
   ]
  },
  {
   "cell_type": "code",
   "execution_count": 7,
   "metadata": {},
   "outputs": [
    {
     "name": "stdout",
     "output_type": "stream",
     "text": [
      "*                   \n",
      "* *                 \n",
      "* * *               \n",
      "* * * *             \n",
      "* * * * *           \n",
      "* * * *             \n",
      "* * *               \n",
      "* *                 \n",
      "*                   \n"
     ]
    }
   ],
   "source": [
    "n1 = 10\n",
    "n2 = 1\n",
    "space = n-1\n",
    "\n",
    "for cr in range(1 , n1//2):\n",
    "    for cst in range(1 , n2+1):               \n",
    "        print('*' , end= \" \") \n",
    "        \n",
    "    for cst in range(1 , space+1):             \n",
    "            print(' ' , end=\" \")    \n",
    "    \n",
    "    n2 +=1\n",
    "    space -=1\n",
    "    print() \n",
    "    \n",
    "for cr in range(n//2 , n1):\n",
    "    for cst in range(1 , n2+1):            \n",
    "        print('*' , end= \" \") \n",
    "        \n",
    "    for cst in range(1 , space+1):          \n",
    "            print(' ' , end=\" \")\n",
    "            \n",
    "    n2 -=1\n",
    "    space +=1\n",
    "    print()\n",
    "      "
   ]
  },
  {
   "cell_type": "markdown",
   "metadata": {},
   "source": [
    "2. Write a Python program to reverse a word after accepting the input from the user."
   ]
  },
  {
   "cell_type": "code",
   "execution_count": 2,
   "metadata": {},
   "outputs": [
    {
     "name": "stdout",
     "output_type": "stream",
     "text": [
      "Ineuron\n",
      "noruenI\n"
     ]
    }
   ],
   "source": [
    "word=input()\n",
    "print(word[::-1])\n"
   ]
  },
  {
   "cell_type": "code",
   "execution_count": null,
   "metadata": {},
   "outputs": [],
   "source": []
  }
 ],
 "metadata": {
  "kernelspec": {
   "display_name": "Python 3",
   "language": "python",
   "name": "python3"
  },
  "language_info": {
   "codemirror_mode": {
    "name": "ipython",
    "version": 3
   },
   "file_extension": ".py",
   "mimetype": "text/x-python",
   "name": "python",
   "nbconvert_exporter": "python",
   "pygments_lexer": "ipython3",
   "version": "3.6.5"
  }
 },
 "nbformat": 4,
 "nbformat_minor": 2
}
