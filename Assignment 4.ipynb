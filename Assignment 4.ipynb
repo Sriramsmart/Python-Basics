{
 "cells": [
  {
   "cell_type": "markdown",
   "metadata": {},
   "source": [
    "# Write a Python function which takes a character (i.e. a string of length 1) and returns True if it is a vowel, False otherwise."
   ]
  },
  {
   "cell_type": "code",
   "execution_count": 19,
   "metadata": {},
   "outputs": [
    {
     "data": {
      "text/plain": [
       "(False, True, False, True)"
      ]
     },
     "execution_count": 19,
     "metadata": {},
     "output_type": "execute_result"
    }
   ],
   "source": [
    "def character_check(letter):\n",
    "    vowel = ['a' , 'e' ,'i' ,'o','u']\n",
    "    if letter in vowel:\n",
    "        return True\n",
    "    return False\n",
    "    \n",
    "character_check('l') , character_check('e') , character_check('p') , character_check('o')"
   ]
  },
  {
   "cell_type": "markdown",
   "metadata": {},
   "source": [
    "\n",
    "# Write a Python program using function concept that maps list of words into a list of integers representing the lengths of the corresponding words.\n",
    "\n",
    "Hint: If a list [ ab,cde,erty] is passed on to the python function output should come as [2,3,4] Here 2,3 and 4 are the lengths of the words in the list."
   ]
  },
  {
   "cell_type": "code",
   "execution_count": 26,
   "metadata": {},
   "outputs": [
    {
     "data": {
      "text/plain": [
       "[2, 3, 4, 7, 5]"
      ]
     },
     "execution_count": 26,
     "metadata": {},
     "output_type": "execute_result"
    }
   ],
   "source": [
    "lst=['ab','cde','erty','Inueron','India']\n",
    "\n",
    "def length(word):\n",
    "    return(len(word))\n",
    "\n",
    "out=list(map(length,lst))\n",
    "out"
   ]
  },
  {
   "cell_type": "markdown",
   "metadata": {},
   "source": [
    "#### Write a Python Program(with class concepts) to find the area of the triangle using the below formula.\n",
    "area = (s$*$(s-a)$*$(s-b)$*$(s-c))$^.5$ .\n",
    "Function to take the length of the sides of triangle from user should be defined in the parent class and function to calculate the area should be defined in subclass."
   ]
  },
  {
   "cell_type": "code",
   "execution_count": 30,
   "metadata": {},
   "outputs": [
    {
     "data": {
      "text/plain": [
       "1062.3517249480042"
      ]
     },
     "execution_count": 30,
     "metadata": {},
     "output_type": "execute_result"
    }
   ],
   "source": [
    "class Area:\n",
    "    def __init__(self,a,b,c):\n",
    "        self.a=a\n",
    "        self.b=b\n",
    "        self.c=c\n",
    "    def calculate_area(self):\n",
    "        s = (self.a + self.b + self.c) / 2\n",
    "        area = (s*(s-self.a)*(s-self.b)*(s-self.c))**0.5\n",
    "        return area\n",
    "    \n",
    "obj=Area(89,85,25)\n",
    "obj.calculate_area()\n",
    "\n",
    "        "
   ]
  },
  {
   "cell_type": "markdown",
   "metadata": {},
   "source": [
    "#### Write a function filter_long_words() that takes a list of words and an integer n and returns the list of words that are longer than n ."
   ]
  },
  {
   "cell_type": "code",
   "execution_count": 35,
   "metadata": {},
   "outputs": [
    {
     "data": {
      "text/plain": [
       "['cde', 'erty', 'Inueron', 'India', 'Australia', 'China']"
      ]
     },
     "execution_count": 35,
     "metadata": {},
     "output_type": "execute_result"
    }
   ],
   "source": [
    "result=[]\n",
    "def filter_long_words(words,n):\n",
    "    for word in words:\n",
    "        if(len(word)>n):\n",
    "            result.append(word)\n",
    "    return result\n",
    "\n",
    "lst=['ab','cde','erty','Inueron','India', 'Australia','China']\n",
    "out=filter_long_words(lst,2)\n",
    "            \n",
    "out"
   ]
  },
  {
   "cell_type": "code",
   "execution_count": null,
   "metadata": {},
   "outputs": [],
   "source": []
  }
 ],
 "metadata": {
  "kernelspec": {
   "display_name": "Python 3",
   "language": "python",
   "name": "python3"
  },
  "language_info": {
   "codemirror_mode": {
    "name": "ipython",
    "version": 3
   },
   "file_extension": ".py",
   "mimetype": "text/x-python",
   "name": "python",
   "nbconvert_exporter": "python",
   "pygments_lexer": "ipython3",
   "version": "3.6.5"
  }
 },
 "nbformat": 4,
 "nbformat_minor": 2
}
